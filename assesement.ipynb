{
 "cells": [
  {
   "cell_type": "code",
   "execution_count": 22,
   "id": "14b692d5-7c70-4ecc-a6f7-9b1cac3d7e84",
   "metadata": {},
   "outputs": [
    {
     "name": "stdout",
     "output_type": "stream",
     "text": [
      "List Example:\n",
      "Element at index 0: 10\n",
      "Element at index 3: 20\n",
      "\n",
      "Tuple Example:\n",
      "Element at index 1: banana\n",
      "Element at index 4: elderberry\n",
      "\n",
      "Dictionary Example:\n",
      "Value for key 'name': jaswanth\n",
      "Value for key 'hobby': coding\n",
      "\n",
      "Additional Access Examples:\n",
      "Slice List (elements at index 1 to 3): [30, 30, 20]\n",
      "Slice Tuple (first three elements): ('apple', 'banana', 'cherry')\n"
     ]
    }
   ],
   "source": [
    "\n",
    "my_list = [10, 30, 30, 20, 50]\n",
    "\n",
    "my_tuple = (\"apple\", \"banana\", \"cherry\", \"date\", \"elderberry\")\n",
    "\n",
    "my_dict = {\"name\": \"jaswanth\", \"age\": 20, \"city\": \"guntur\", \"hobby\": \"coding\", \"language\": \"python\"}\n",
    "\n",
    "print(\"List Example:\")\n",
    "print(\"Element at index 0:\", my_list[0])\n",
    "print(\"Element at index 3:\", my_list[3])\n",
    "\n",
    "print(\"\\nTuple Example:\")\n",
    "print(\"Element at index 1:\", my_tuple[1])\n",
    "print(\"Element at index 4:\", my_tuple[4])\n",
    "\n",
    "print(\"\\nDictionary Example:\")\n",
    "print(\"Value for key 'name':\", my_dict[\"name\"])\n",
    "print(\"Value for key 'hobby':\", my_dict[\"hobby\"])\n",
    "\n",
    "print(\"\\nAdditional Access Examples:\")\n",
    "print(\"Slice List (elements at index 1 to 3):\", my_list[1:4])\n",
    "print(\"Slice Tuple (first three elements):\", my_tuple[:3])\n"
   ]
  },
  {
   "cell_type": "code",
   "execution_count": null,
   "id": "1905cf0a-f8d8-411f-8a4d-3800ef0daa0c",
   "metadata": {},
   "outputs": [],
   "source": []
  },
  {
   "cell_type": "code",
   "execution_count": null,
   "id": "8787d252-ef9a-42ad-849b-c50bd25cdf58",
   "metadata": {},
   "outputs": [],
   "source": []
  }
 ],
 "metadata": {
  "kernelspec": {
   "display_name": "Python 3 (ipykernel)",
   "language": "python",
   "name": "python3"
  },
  "language_info": {
   "codemirror_mode": {
    "name": "ipython",
    "version": 3
   },
   "file_extension": ".py",
   "mimetype": "text/x-python",
   "name": "python",
   "nbconvert_exporter": "python",
   "pygments_lexer": "ipython3",
   "version": "3.12.4"
  }
 },
 "nbformat": 4,
 "nbformat_minor": 5
}
